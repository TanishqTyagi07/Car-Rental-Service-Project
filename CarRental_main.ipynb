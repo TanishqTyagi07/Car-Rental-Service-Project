{
 "cells": [
  {
   "cell_type": "markdown",
   "id": "a41da8a3",
   "metadata": {},
   "source": [
    "# Abbreviated words\n",
    "## CRshop- Car rental shop, inv- inventory, rentCarOHB- Rent Car on hourly basis, rentCarODB- Rent Car on daily basis,\n",
    "## rentCarOWB- Rent Car on weekly basis, req- request, rT- rentalTime, rB- rentalBasis, nOC- number of cars, rP- rentalPeriod"
   ]
  },
  {
   "cell_type": "code",
   "execution_count": 12,
   "id": "ebd9eee8",
   "metadata": {},
   "outputs": [],
   "source": [
    "from carRentalproject import carRental, Customer\n",
    "\n",
    "def main():\n",
    "    CRshop=carRental(100)\n",
    "    customer=Customer()\n",
    "    \n",
    "    while True:\n",
    "        print(\"\"\"\n",
    "              ==== Car Rental Shop ====\n",
    "              1. Display available cars\n",
    "              2. Request a car on hourly basis $5\n",
    "              3. Request a car on daily basis $20\n",
    "              4. Request a car on weekly basis $60\n",
    "              5. Return a car\n",
    "              6. Exit\n",
    "              \"\"\")\n",
    "        choice= input(\"Enter your choice (1-6): \")\n",
    "        try:\n",
    "            choice=int(choice)\n",
    "        except ValueError:\n",
    "            print(\"That's not an integer!\")\n",
    "            continue\n",
    "        if choice ==1:\n",
    "            CRshop.displayinv()\n",
    "        elif choice==2:\n",
    "            customer.rT=CRshop.rentCarOHB(customer.reqCar())\n",
    "            customer.rB=1\n",
    "        elif choice==3:\n",
    "            customer.rT=CRshop.rentCarODB(customer.reqCar())\n",
    "            customer.rB=2 \n",
    "        elif choice==4:\n",
    "            customer.rT=CRshop.rentCarOWB(customer.reqCar())\n",
    "            customer.rB=3 \n",
    "        elif choice==5:\n",
    "            customer.bill=CRshop.returnCar(customer.returnCar())\n",
    "            customer.rB,customer.rT,customer.cars=0,0,0\n",
    "        elif choice==6:\n",
    "            break\n",
    "        else:\n",
    "            print(\"Invalid input! Please enter no. between 1-6.\")\n",
    "    print(\"Thank you for using our car rental service.\")\n",
    "    \n",
    "if __name__==\"__main__\":\n",
    "        main()"
   ]
  },
  {
   "cell_type": "code",
   "execution_count": null,
   "id": "658c4f12",
   "metadata": {},
   "outputs": [],
   "source": []
  }
 ],
 "metadata": {
  "kernelspec": {
   "display_name": "Python 3 (ipykernel)",
   "language": "python",
   "name": "python3"
  },
  "language_info": {
   "codemirror_mode": {
    "name": "ipython",
    "version": 3
   },
   "file_extension": ".py",
   "mimetype": "text/x-python",
   "name": "python",
   "nbconvert_exporter": "python",
   "pygments_lexer": "ipython3",
   "version": "3.11.4"
  }
 },
 "nbformat": 4,
 "nbformat_minor": 5
}
